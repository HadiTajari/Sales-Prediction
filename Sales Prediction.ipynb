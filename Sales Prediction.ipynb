{
 "cells": [
  {
   "cell_type": "code",
   "execution_count": null,
   "id": "c1cdf5a3",
   "metadata": {},
   "outputs": [],
   "source": [
    "# To download the Dataset with \"wget\", we use the following command.\n",
    "# if the wget didin't work, you must install \"WGET\" in your OS"
   ]
  },
  {
   "cell_type": "markdown",
   "id": "10a8de45",
   "metadata": {},
   "source": [
    "## 1) Importing Dataset and Libraries"
   ]
  },
  {
   "cell_type": "code",
   "execution_count": null,
   "id": "3dbab4ab",
   "metadata": {},
   "outputs": [],
   "source": [
    "!wget https://raw.githubusercontent.com/HadiTajari/Sales-Prediction/master/advertising.csv"
   ]
  },
  {
   "cell_type": "markdown",
   "id": "9b0031a8",
   "metadata": {},
   "source": [
    "### 1- 1) Importing Libraries"
   ]
  },
  {
   "cell_type": "code",
   "execution_count": 1,
   "id": "643ae664",
   "metadata": {},
   "outputs": [],
   "source": [
    "import numpy as np\n",
    "import pandas as pd\n",
    "import seaborn as sns\n",
    "import matplotlib.pyplot as plt\n",
    "\n",
    "# data processing\n",
    "from sklearn.preprocessing import Normalizer, StandardScaler\n",
    "# data splitting\n",
    "from sklearn.model_selection import train_test_split, StratifiedKFold, cross_validate, KFold\n",
    "\n",
    "#data evaluation\n",
    "from sklearn.metrics import r2_score , mean_squared_error\n",
    "\n",
    "# data modeling\n",
    "from sklearn.linear_model import LinearRegression\n",
    "from sklearn.tree import DecisionTreeRegressor\n",
    "from sklearn.ensemble import RandomForestRegressor\n",
    "from xgboost import XGBRegressor\n",
    "from lightgbm import LGBMRegressor\n",
    "from catboost import CatBoostRegressor\n",
    "\n",
    "\n",
    "# set SEED\n",
    "SEED = 123"
   ]
  },
  {
   "cell_type": "code",
   "execution_count": 2,
   "id": "88831b12",
   "metadata": {},
   "outputs": [
    {
     "name": "stdout",
     "output_type": "stream",
     "text": [
      "Sales Prediction.ipynb\n",
      "advertising.csv\n"
     ]
    }
   ],
   "source": [
    "!ls"
   ]
  },
  {
   "cell_type": "code",
   "execution_count": 3,
   "id": "4bab1dde",
   "metadata": {},
   "outputs": [],
   "source": [
    "df = pd.read_csv(\"advertising.csv\") # Loading dataset as DataFram with Pandas"
   ]
  },
  {
   "cell_type": "code",
   "execution_count": 4,
   "id": "43dd80db",
   "metadata": {
    "scrolled": true
   },
   "outputs": [
    {
     "data": {
      "text/html": [
       "<div>\n",
       "<style scoped>\n",
       "    .dataframe tbody tr th:only-of-type {\n",
       "        vertical-align: middle;\n",
       "    }\n",
       "\n",
       "    .dataframe tbody tr th {\n",
       "        vertical-align: top;\n",
       "    }\n",
       "\n",
       "    .dataframe thead th {\n",
       "        text-align: right;\n",
       "    }\n",
       "</style>\n",
       "<table border=\"1\" class=\"dataframe\">\n",
       "  <thead>\n",
       "    <tr style=\"text-align: right;\">\n",
       "      <th></th>\n",
       "      <th>TV</th>\n",
       "      <th>Radio</th>\n",
       "      <th>Newspaper</th>\n",
       "      <th>Sales</th>\n",
       "    </tr>\n",
       "  </thead>\n",
       "  <tbody>\n",
       "    <tr>\n",
       "      <th>0</th>\n",
       "      <td>230.1</td>\n",
       "      <td>37.8</td>\n",
       "      <td>69.2</td>\n",
       "      <td>22100</td>\n",
       "    </tr>\n",
       "    <tr>\n",
       "      <th>1</th>\n",
       "      <td>44.5</td>\n",
       "      <td>39.3</td>\n",
       "      <td>45.1</td>\n",
       "      <td>10400</td>\n",
       "    </tr>\n",
       "    <tr>\n",
       "      <th>2</th>\n",
       "      <td>17.2</td>\n",
       "      <td>45.9</td>\n",
       "      <td>69.3</td>\n",
       "      <td>12000</td>\n",
       "    </tr>\n",
       "    <tr>\n",
       "      <th>3</th>\n",
       "      <td>151.5</td>\n",
       "      <td>41.3</td>\n",
       "      <td>58.5</td>\n",
       "      <td>16500</td>\n",
       "    </tr>\n",
       "    <tr>\n",
       "      <th>4</th>\n",
       "      <td>180.8</td>\n",
       "      <td>10.8</td>\n",
       "      <td>58.4</td>\n",
       "      <td>17900</td>\n",
       "    </tr>\n",
       "  </tbody>\n",
       "</table>\n",
       "</div>"
      ],
      "text/plain": [
       "      TV  Radio  Newspaper  Sales\n",
       "0  230.1   37.8       69.2  22100\n",
       "1   44.5   39.3       45.1  10400\n",
       "2   17.2   45.9       69.3  12000\n",
       "3  151.5   41.3       58.5  16500\n",
       "4  180.8   10.8       58.4  17900"
      ]
     },
     "execution_count": 4,
     "metadata": {},
     "output_type": "execute_result"
    }
   ],
   "source": [
    "df.head()  # Looking top 5 row"
   ]
  },
  {
   "cell_type": "code",
   "execution_count": 5,
   "id": "f1806fa8",
   "metadata": {
    "scrolled": true
   },
   "outputs": [
    {
     "name": "stdout",
     "output_type": "stream",
     "text": [
      "<class 'pandas.core.frame.DataFrame'>\n",
      "RangeIndex: 200 entries, 0 to 199\n",
      "Data columns (total 4 columns):\n",
      " #   Column     Non-Null Count  Dtype  \n",
      "---  ------     --------------  -----  \n",
      " 0   TV         200 non-null    float64\n",
      " 1   Radio      200 non-null    float64\n",
      " 2   Newspaper  200 non-null    float64\n",
      " 3   Sales      200 non-null    int64  \n",
      "dtypes: float64(3), int64(1)\n",
      "memory usage: 6.4 KB\n"
     ]
    }
   ],
   "source": [
    "df.info()  # A summary of the dataset and columns"
   ]
  },
  {
   "cell_type": "code",
   "execution_count": 6,
   "id": "15f18a41",
   "metadata": {},
   "outputs": [],
   "source": [
    "# Observaions: \n",
    " # 1) All of features are numeric\n",
    " # 2) The target variable is a numerical continuous type \n",
    " # 3) So we must Use Regression Models"
   ]
  },
  {
   "cell_type": "code",
   "execution_count": 7,
   "id": "ed46046e",
   "metadata": {
    "scrolled": true
   },
   "outputs": [
    {
     "data": {
      "text/html": [
       "<div>\n",
       "<style scoped>\n",
       "    .dataframe tbody tr th:only-of-type {\n",
       "        vertical-align: middle;\n",
       "    }\n",
       "\n",
       "    .dataframe tbody tr th {\n",
       "        vertical-align: top;\n",
       "    }\n",
       "\n",
       "    .dataframe thead th {\n",
       "        text-align: right;\n",
       "    }\n",
       "</style>\n",
       "<table border=\"1\" class=\"dataframe\">\n",
       "  <thead>\n",
       "    <tr style=\"text-align: right;\">\n",
       "      <th></th>\n",
       "      <th>TV</th>\n",
       "      <th>Radio</th>\n",
       "      <th>Newspaper</th>\n",
       "      <th>Sales</th>\n",
       "    </tr>\n",
       "  </thead>\n",
       "  <tbody>\n",
       "    <tr>\n",
       "      <th>count</th>\n",
       "      <td>200.000000</td>\n",
       "      <td>200.000000</td>\n",
       "      <td>200.000000</td>\n",
       "      <td>200.000000</td>\n",
       "    </tr>\n",
       "    <tr>\n",
       "      <th>mean</th>\n",
       "      <td>147.042500</td>\n",
       "      <td>23.264000</td>\n",
       "      <td>30.554000</td>\n",
       "      <td>15130.500000</td>\n",
       "    </tr>\n",
       "    <tr>\n",
       "      <th>std</th>\n",
       "      <td>85.854236</td>\n",
       "      <td>14.846809</td>\n",
       "      <td>21.778621</td>\n",
       "      <td>5283.892253</td>\n",
       "    </tr>\n",
       "    <tr>\n",
       "      <th>min</th>\n",
       "      <td>0.700000</td>\n",
       "      <td>0.000000</td>\n",
       "      <td>0.300000</td>\n",
       "      <td>1600.000000</td>\n",
       "    </tr>\n",
       "    <tr>\n",
       "      <th>25%</th>\n",
       "      <td>74.375000</td>\n",
       "      <td>9.975000</td>\n",
       "      <td>12.750000</td>\n",
       "      <td>11000.000000</td>\n",
       "    </tr>\n",
       "    <tr>\n",
       "      <th>50%</th>\n",
       "      <td>149.750000</td>\n",
       "      <td>22.900000</td>\n",
       "      <td>25.750000</td>\n",
       "      <td>16000.000000</td>\n",
       "    </tr>\n",
       "    <tr>\n",
       "      <th>75%</th>\n",
       "      <td>218.825000</td>\n",
       "      <td>36.525000</td>\n",
       "      <td>45.100000</td>\n",
       "      <td>19050.000000</td>\n",
       "    </tr>\n",
       "    <tr>\n",
       "      <th>max</th>\n",
       "      <td>296.400000</td>\n",
       "      <td>49.600000</td>\n",
       "      <td>114.000000</td>\n",
       "      <td>27000.000000</td>\n",
       "    </tr>\n",
       "  </tbody>\n",
       "</table>\n",
       "</div>"
      ],
      "text/plain": [
       "               TV       Radio   Newspaper         Sales\n",
       "count  200.000000  200.000000  200.000000    200.000000\n",
       "mean   147.042500   23.264000   30.554000  15130.500000\n",
       "std     85.854236   14.846809   21.778621   5283.892253\n",
       "min      0.700000    0.000000    0.300000   1600.000000\n",
       "25%     74.375000    9.975000   12.750000  11000.000000\n",
       "50%    149.750000   22.900000   25.750000  16000.000000\n",
       "75%    218.825000   36.525000   45.100000  19050.000000\n",
       "max    296.400000   49.600000  114.000000  27000.000000"
      ]
     },
     "execution_count": 7,
     "metadata": {},
     "output_type": "execute_result"
    }
   ],
   "source": [
    "df.describe() # describtion of numeric features"
   ]
  },
  {
   "cell_type": "markdown",
   "id": "16f7cc1c",
   "metadata": {},
   "source": [
    "### Visualization of Data"
   ]
  },
  {
   "cell_type": "code",
   "execution_count": 8,
   "id": "445f1242",
   "metadata": {},
   "outputs": [
    {
     "data": {
      "text/plain": [
       "Text(0, 0.5, 'Mount of Sales')"
      ]
     },
     "execution_count": 8,
     "metadata": {},
     "output_type": "execute_result"
    },
    {
     "data": {
      "image/png": "[encoded data removed]",
      "text/plain": [
       "<Figure size 640x480 with 1 Axes>"
      ]
     },
     "metadata": {},
     "output_type": "display_data"
    }
   ],
   "source": [
    "sns.scatterplot(x = \"Radio\", y=\"Sales\", data=df)\n",
    "sns.scatterplot(x = \"TV\", y=\"Sales\", data=df)\n",
    "sns.scatterplot(x = \"Newspaper\", y=\"Sales\", data=df)\n",
    "plt.legend(labels =[\"Radio\", \"TV\", \"Newspaper\"])\n",
    "plt.xlabel(\"Advertising Costs\")\n",
    "plt.ylabel(\"Mount of Sales\")"
   ]
  },
  {
   "cell_type": "markdown",
   "id": "c8ef87f8",
   "metadata": {},
   "source": [
    "### Spliting data to features and target variable"
   ]
  },
  {
   "cell_type": "code",
   "execution_count": 9,
   "id": "2f9002cf",
   "metadata": {},
   "outputs": [],
   "source": [
    "X = df.drop(\"Sales\", axis=1) # The Features"
   ]
  },
  {
   "cell_type": "code",
   "execution_count": 10,
   "id": "72bdad2f",
   "metadata": {},
   "outputs": [],
   "source": [
    "y = df[\"Sales\"] # The Target"
   ]
  },
  {
   "cell_type": "markdown",
   "id": "3d9f99e3",
   "metadata": {},
   "source": [
    "### Splitting Data and making KFOLD"
   ]
  },
  {
   "cell_type": "code",
   "execution_count": 11,
   "id": "db2764fe",
   "metadata": {},
   "outputs": [],
   "source": [
    "X_train, X_val, y_train, y_val = train_test_split(X, y,test_size=0.2 , random_state=SEED ,shuffle= True)"
   ]
  },
  {
   "cell_type": "code",
   "execution_count": 12,
   "id": "e8177de7",
   "metadata": {},
   "outputs": [
    {
     "data": {
      "text/plain": [
       "((160,), (40,))"
      ]
     },
     "execution_count": 12,
     "metadata": {},
     "output_type": "execute_result"
    }
   ],
   "source": [
    "# The shape of train and validation data\n",
    "y_train.shape , y_val.shape"
   ]
  },
  {
   "cell_type": "code",
   "execution_count": 13,
   "id": "6d152ad2",
   "metadata": {},
   "outputs": [],
   "source": [
    "kf = KFold( n_splits=5 , shuffle=True, random_state=SEED)"
   ]
  },
  {
   "cell_type": "markdown",
   "id": "1414677c",
   "metadata": {},
   "source": [
    "### Linear Regression"
   ]
  },
  {
   "cell_type": "code",
   "execution_count": 14,
   "id": "15da6fe6",
   "metadata": {},
   "outputs": [],
   "source": [
    "lin_reg = LinearRegression()\n",
    "cv = cross_validate(lin_reg, X_train, y_train, cv = kf, scoring=(\"r2\", \"neg_mean_squared_error\") ,return_estimator=True)\n",
    "# detect more metrics https://scikit-learn.org/stable/modules/model_evaluation.html#scoring-parameter\n",
    "model_lin = cv[\"estimator\"]"
   ]
  },
  {
   "cell_type": "code",
   "execution_count": 15,
   "id": "d1ff586e",
   "metadata": {},
   "outputs": [
    {
     "name": "stdout",
     "output_type": "stream",
     "text": [
      "R2 of linearregression: 91.71%\n"
     ]
    }
   ],
   "source": [
    "y_hats = [model.predict(X_val) for model in model_lin]\n",
    "r2_lin  = np.mean([r2_score(y_val, y_hat) for y_hat in y_hats])\n",
    "print(\"R2 of linearregression: \" f'{r2_lin:0.2%}')"
   ]
  },
  {
   "cell_type": "markdown",
   "id": "8ad75db9",
   "metadata": {},
   "source": [
    "### DecisionTree"
   ]
  },
  {
   "cell_type": "code",
   "execution_count": 16,
   "id": "d2dd6d52",
   "metadata": {
    "scrolled": true
   },
   "outputs": [],
   "source": [
    "dec = DecisionTreeRegressor()\n",
    "cv = cross_validate(dec, X_train, y_train, cv = kf, scoring=(\"r2\", \"neg_mean_squared_error\") ,return_estimator=True)\n",
    "model_dec = cv[\"estimator\"]"
   ]
  },
  {
   "cell_type": "code",
   "execution_count": 17,
   "id": "41ad3dc8",
   "metadata": {},
   "outputs": [
    {
     "name": "stdout",
     "output_type": "stream",
     "text": [
      "R2 of DecisionTree: 91.42%\n"
     ]
    }
   ],
   "source": [
    "y_hats = [model.predict(X_val) for model in model_dec]\n",
    "r2_dec = np.mean([r2_score(y_val, y_hat) for y_hat in y_hats])\n",
    "print(\"R2 of DecisionTree: \"f\"{r2_dec:0.2%}\")"
   ]
  },
  {
   "cell_type": "markdown",
   "id": "60ef4d60",
   "metadata": {},
   "source": [
    "## RandomForest"
   ]
  },
  {
   "cell_type": "code",
   "execution_count": 18,
   "id": "a9f12310",
   "metadata": {},
   "outputs": [],
   "source": [
    "rf = RandomForestRegressor()\n",
    "cv = cross_validate(rf, X_train, y_train, cv = kf, scoring=(\"r2\", \"neg_mean_squared_error\") ,return_estimator=True)\n",
    "model_rf = cv[\"estimator\"]"
   ]
  },
  {
   "cell_type": "code",
   "execution_count": 19,
   "id": "99be2f7b",
   "metadata": {},
   "outputs": [
    {
     "name": "stdout",
     "output_type": "stream",
     "text": [
      "R2 of Randomforest: 96.97%\n"
     ]
    }
   ],
   "source": [
    "y_hats = [model.predict(X_val) for model in model_rf]\n",
    "r2_rf = np.mean([r2_score(y_val, y_hat) for y_hat in y_hats])\n",
    "print(\"R2 of Randomforest: \"f\"{r2_rf:0.2%}\")"
   ]
  },
  {
   "cell_type": "markdown",
   "id": "0824b44e",
   "metadata": {},
   "source": [
    "### Light Gradiant Boosting Model"
   ]
  },
  {
   "cell_type": "code",
   "execution_count": 20,
   "id": "7edd2df8",
   "metadata": {},
   "outputs": [],
   "source": [
    "lgb = LGBMRegressor()\n",
    "cv = cross_validate(lgb, X_train, y_train, cv = kf, scoring=(\"r2\", \"neg_mean_squared_error\") ,return_estimator=True)\n",
    "model_lgb= cv[\"estimator\"]"
   ]
  },
  {
   "cell_type": "code",
   "execution_count": 21,
   "id": "54ed5a24",
   "metadata": {},
   "outputs": [
    {
     "name": "stdout",
     "output_type": "stream",
     "text": [
      "R2 of LightGBM: 94.42%\n"
     ]
    }
   ],
   "source": [
    "y_hats = [model.predict(X_val) for model in model_lgb]\n",
    "r2_lgb = np.mean([r2_score(y_val, y_hat) for y_hat in y_hats])\n",
    "print(\"R2 of LightGBM: \"f\"{r2_lgb:0.2%}\")"
   ]
  },
  {
   "cell_type": "markdown",
   "id": "30810e0a",
   "metadata": {},
   "source": [
    "### Extra Gradiant Boosting"
   ]
  },
  {
   "cell_type": "code",
   "execution_count": 22,
   "id": "ea5a52b9",
   "metadata": {},
   "outputs": [],
   "source": [
    "xgb = XGBRegressor()\n",
    "cv = cross_validate(xgb, X_train, y_train, cv = kf, scoring=(\"r2\", \"neg_mean_squared_error\") ,return_estimator=True)\n",
    "model_xgb= cv[\"estimator\"]"
   ]
  },
  {
   "cell_type": "code",
   "execution_count": 23,
   "id": "8906d75c",
   "metadata": {},
   "outputs": [
    {
     "name": "stdout",
     "output_type": "stream",
     "text": [
      "R2 of XGB: 95.82%\n"
     ]
    }
   ],
   "source": [
    "y_hats = [model.predict(X_val) for model in model_xgb]\n",
    "r2_xgb = np.mean([r2_score(y_val, y_hat) for y_hat in y_hats])\n",
    "print(\"R2 of XGB: \"f\"{r2_xgb:0.2%}\")"
   ]
  },
  {
   "cell_type": "code",
   "execution_count": 24,
   "id": "ac7d031b",
   "metadata": {},
   "outputs": [
    {
     "name": "stdout",
     "output_type": "stream",
     "text": [
      "R2 of linearregression: 91.71%\n",
      "R2 of DecisionTree: 91.42%\n",
      "R2 of Randomforest: 96.97%\n",
      "R2 of LightGBM: 94.42%\n",
      "R2 of XGB: 95.82%\n"
     ]
    }
   ],
   "source": [
    "# Table of Results\n",
    "print(\"R2 of linearregression: \" f'{r2_lin:0.2%}')\n",
    "print(\"R2 of DecisionTree: \"f\"{r2_dec:0.2%}\")\n",
    "print(\"R2 of Randomforest: \"f\"{r2_rf:0.2%}\")\n",
    "print(\"R2 of LightGBM: \"f\"{r2_lgb:0.2%}\")\n",
    "print(\"R2 of XGB: \"f\"{r2_xgb:0.2%}\")"
   ]
  },
  {
   "cell_type": "code",
   "execution_count": null,
   "id": "3f6be2e0",
   "metadata": {},
   "outputs": [],
   "source": []
  }
 ],
 "metadata": {
  "kernelspec": {
   "display_name": "Python 3 (ipykernel)",
   "language": "python",
   "name": "python3"
  },
  "language_info": {
   "codemirror_mode": {
    "name": "ipython",
    "version": 3
   },
   "file_extension": ".py",
   "mimetype": "text/x-python",
   "name": "python",
   "nbconvert_exporter": "python",
   "pygments_lexer": "ipython3",
   "version": "3.9.13"
  }
 },
 "nbformat": 4,
 "nbformat_minor": 5
}
