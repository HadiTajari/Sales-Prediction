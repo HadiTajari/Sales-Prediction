{
 "cells": [
  {
   "cell_type": "code",
   "execution_count": null,
   "id": "813da0f2",
   "metadata": {},
   "outputs": [],
   "source": [
    "# To download the Dataset with \"wget\", we use the following command.\n",
    "# if the wget didin't work, you must install \"WGET\" in your OS"
   ]
  },
  {
   "cell_type": "code",
   "execution_count": 11,
   "id": "e9f6d1b9",
   "metadata": {},
   "outputs": [
    {
     "name": "stderr",
     "output_type": "stream",
     "text": [
      "--2023-04-07 15:32:04--  http://advertising.csv/\n",
      "Resolving advertising.csv (advertising.csv)... failed: This is usually a temporary error during hostname resolution and means that the local server did not receive a response from an authoritative server. .\n",
      "wget: unable to resolve host address 'advertising.csv'\n",
      "--2023-04-07 15:32:04--  https://raw.githubusercontent.com/HadiTajari/Sales-Prediction/master/advertising.csv\n",
      "Resolving raw.githubusercontent.com (raw.githubusercontent.com)... 185.199.108.133, 185.199.109.133, 185.199.110.133, ...\n",
      "Connecting to raw.githubusercontent.com (raw.githubusercontent.com)|185.199.108.133|:443... connected.\n",
      "HTTP request sent, awaiting response... 200 OK\n",
      "Length: 4107 (4.0K) [text/plain]\n",
      "Saving to: 'advertising.csv'\n",
      "\n",
      "     0K ....                                                  100%  671K=0.006s\n",
      "\n",
      "2023-04-07 15:32:04 (671 KB/s) - 'advertising.csv' saved [4107/4107]\n",
      "\n",
      "FINISHED --2023-04-07 15:32:04--\n",
      "Total wall clock time: 0.7s\n",
      "Downloaded: 1 files, 4.0K in 0.006s (671 KB/s)\n"
     ]
    }
   ],
   "source": [
    "!wget https://raw.githubusercontent.com/HadiTajari/Sales-Prediction/master/advertising.csv"
   ]
  },
  {
   "cell_type": "code",
   "execution_count": 124,
   "id": "1db32beb",
   "metadata": {},
   "outputs": [],
   "source": [
    "import numpy as np\n",
    "import pandas as pd\n",
    "import seaborn as sns\n",
    "import matplotlib.pyplot as plt\n",
    "\n",
    "# data processing\n",
    "from sklearn.preprocessing import Normalizer, StandardScaler\n",
    "# data splitting\n",
    "from sklearn.model_selection import train_test_split, StratifiedKFold, cross_validate, KFold\n",
    "\n",
    "#data evaluation\n",
    "from sklearn.metrics import r2_score , mean_squared_error\n",
    "\n",
    "# data modeling\n",
    "from sklearn.linear_model import LinearRegression\n",
    "from sklearn.tree import DecisionTreeRegressor\n",
    "from sklearn.ensemble import RandomForestRegressor\n",
    "from xgboost import XGBRegressor\n",
    "from lightgbm import LGBMRegressor\n",
    "from catboost import CatBoostRegressor\n",
    "\n",
    "\n",
    "# set SEED\n",
    "SEED = 123"
   ]
  },
  {
   "cell_type": "code",
   "execution_count": 12,
   "id": "d2a78947",
   "metadata": {},
   "outputs": [
    {
     "name": "stdout",
     "output_type": "stream",
     "text": [
      "Untitled.ipynb\n",
      "advertising.csv\n"
     ]
    }
   ],
   "source": [
    "!ls"
   ]
  },
  {
   "cell_type": "code",
   "execution_count": 13,
   "id": "f8d7c240",
   "metadata": {},
   "outputs": [],
   "source": [
    "df = pd.read_csv(\"advertising.csv\")"
   ]
  },
  {
   "cell_type": "code",
   "execution_count": 14,
   "id": "f870f102",
   "metadata": {
    "scrolled": true
   },
   "outputs": [
    {
     "data": {
      "text/html": [
       "<div>\n",
       "<style scoped>\n",
       "    .dataframe tbody tr th:only-of-type {\n",
       "        vertical-align: middle;\n",
       "    }\n",
       "\n",
       "    .dataframe tbody tr th {\n",
       "        vertical-align: top;\n",
       "    }\n",
       "\n",
       "    .dataframe thead th {\n",
       "        text-align: right;\n",
       "    }\n",
       "</style>\n",
       "<table border=\"1\" class=\"dataframe\">\n",
       "  <thead>\n",
       "    <tr style=\"text-align: right;\">\n",
       "      <th></th>\n",
       "      <th>TV</th>\n",
       "      <th>Radio</th>\n",
       "      <th>Newspaper</th>\n",
       "      <th>Sales</th>\n",
       "    </tr>\n",
       "  </thead>\n",
       "  <tbody>\n",
       "    <tr>\n",
       "      <th>0</th>\n",
       "      <td>230.1</td>\n",
       "      <td>37.8</td>\n",
       "      <td>69.2</td>\n",
       "      <td>22100</td>\n",
       "    </tr>\n",
       "    <tr>\n",
       "      <th>1</th>\n",
       "      <td>44.5</td>\n",
       "      <td>39.3</td>\n",
       "      <td>45.1</td>\n",
       "      <td>10400</td>\n",
       "    </tr>\n",
       "    <tr>\n",
       "      <th>2</th>\n",
       "      <td>17.2</td>\n",
       "      <td>45.9</td>\n",
       "      <td>69.3</td>\n",
       "      <td>12000</td>\n",
       "    </tr>\n",
       "    <tr>\n",
       "      <th>3</th>\n",
       "      <td>151.5</td>\n",
       "      <td>41.3</td>\n",
       "      <td>58.5</td>\n",
       "      <td>16500</td>\n",
       "    </tr>\n",
       "    <tr>\n",
       "      <th>4</th>\n",
       "      <td>180.8</td>\n",
       "      <td>10.8</td>\n",
       "      <td>58.4</td>\n",
       "      <td>17900</td>\n",
       "    </tr>\n",
       "  </tbody>\n",
       "</table>\n",
       "</div>"
      ],
      "text/plain": [
       "      TV  Radio  Newspaper  Sales\n",
       "0  230.1   37.8       69.2  22100\n",
       "1   44.5   39.3       45.1  10400\n",
       "2   17.2   45.9       69.3  12000\n",
       "3  151.5   41.3       58.5  16500\n",
       "4  180.8   10.8       58.4  17900"
      ]
     },
     "execution_count": 14,
     "metadata": {},
     "output_type": "execute_result"
    }
   ],
   "source": [
    "df.head()"
   ]
  },
  {
   "cell_type": "code",
   "execution_count": 15,
   "id": "aa119d6f",
   "metadata": {
    "scrolled": true
   },
   "outputs": [
    {
     "name": "stdout",
     "output_type": "stream",
     "text": [
      "<class 'pandas.core.frame.DataFrame'>\n",
      "RangeIndex: 200 entries, 0 to 199\n",
      "Data columns (total 4 columns):\n",
      " #   Column     Non-Null Count  Dtype  \n",
      "---  ------     --------------  -----  \n",
      " 0   TV         200 non-null    float64\n",
      " 1   Radio      200 non-null    float64\n",
      " 2   Newspaper  200 non-null    float64\n",
      " 3   Sales      200 non-null    int64  \n",
      "dtypes: float64(3), int64(1)\n",
      "memory usage: 6.4 KB\n"
     ]
    }
   ],
   "source": [
    "df.info()"
   ]
  },
  {
   "cell_type": "code",
   "execution_count": 16,
   "id": "a48bd637",
   "metadata": {
    "scrolled": true
   },
   "outputs": [
    {
     "data": {
      "text/html": [
       "<div>\n",
       "<style scoped>\n",
       "    .dataframe tbody tr th:only-of-type {\n",
       "        vertical-align: middle;\n",
       "    }\n",
       "\n",
       "    .dataframe tbody tr th {\n",
       "        vertical-align: top;\n",
       "    }\n",
       "\n",
       "    .dataframe thead th {\n",
       "        text-align: right;\n",
       "    }\n",
       "</style>\n",
       "<table border=\"1\" class=\"dataframe\">\n",
       "  <thead>\n",
       "    <tr style=\"text-align: right;\">\n",
       "      <th></th>\n",
       "      <th>TV</th>\n",
       "      <th>Radio</th>\n",
       "      <th>Newspaper</th>\n",
       "      <th>Sales</th>\n",
       "    </tr>\n",
       "  </thead>\n",
       "  <tbody>\n",
       "    <tr>\n",
       "      <th>count</th>\n",
       "      <td>200.000000</td>\n",
       "      <td>200.000000</td>\n",
       "      <td>200.000000</td>\n",
       "      <td>200.000000</td>\n",
       "    </tr>\n",
       "    <tr>\n",
       "      <th>mean</th>\n",
       "      <td>147.042500</td>\n",
       "      <td>23.264000</td>\n",
       "      <td>30.554000</td>\n",
       "      <td>15130.500000</td>\n",
       "    </tr>\n",
       "    <tr>\n",
       "      <th>std</th>\n",
       "      <td>85.854236</td>\n",
       "      <td>14.846809</td>\n",
       "      <td>21.778621</td>\n",
       "      <td>5283.892253</td>\n",
       "    </tr>\n",
       "    <tr>\n",
       "      <th>min</th>\n",
       "      <td>0.700000</td>\n",
       "      <td>0.000000</td>\n",
       "      <td>0.300000</td>\n",
       "      <td>1600.000000</td>\n",
       "    </tr>\n",
       "    <tr>\n",
       "      <th>25%</th>\n",
       "      <td>74.375000</td>\n",
       "      <td>9.975000</td>\n",
       "      <td>12.750000</td>\n",
       "      <td>11000.000000</td>\n",
       "    </tr>\n",
       "    <tr>\n",
       "      <th>50%</th>\n",
       "      <td>149.750000</td>\n",
       "      <td>22.900000</td>\n",
       "      <td>25.750000</td>\n",
       "      <td>16000.000000</td>\n",
       "    </tr>\n",
       "    <tr>\n",
       "      <th>75%</th>\n",
       "      <td>218.825000</td>\n",
       "      <td>36.525000</td>\n",
       "      <td>45.100000</td>\n",
       "      <td>19050.000000</td>\n",
       "    </tr>\n",
       "    <tr>\n",
       "      <th>max</th>\n",
       "      <td>296.400000</td>\n",
       "      <td>49.600000</td>\n",
       "      <td>114.000000</td>\n",
       "      <td>27000.000000</td>\n",
       "    </tr>\n",
       "  </tbody>\n",
       "</table>\n",
       "</div>"
      ],
      "text/plain": [
       "               TV       Radio   Newspaper         Sales\n",
       "count  200.000000  200.000000  200.000000    200.000000\n",
       "mean   147.042500   23.264000   30.554000  15130.500000\n",
       "std     85.854236   14.846809   21.778621   5283.892253\n",
       "min      0.700000    0.000000    0.300000   1600.000000\n",
       "25%     74.375000    9.975000   12.750000  11000.000000\n",
       "50%    149.750000   22.900000   25.750000  16000.000000\n",
       "75%    218.825000   36.525000   45.100000  19050.000000\n",
       "max    296.400000   49.600000  114.000000  27000.000000"
      ]
     },
     "execution_count": 16,
     "metadata": {},
     "output_type": "execute_result"
    }
   ],
   "source": [
    "df.describe()"
   ]
  },
  {
   "cell_type": "code",
   "execution_count": 22,
   "id": "62a85367",
   "metadata": {},
   "outputs": [
    {
     "data": {
      "text/plain": [
       "<matplotlib.collections.PathCollection at 0x17b254afca0>"
      ]
     },
     "execution_count": 22,
     "metadata": {},
     "output_type": "execute_result"
    },
    {
     "data": {
      "image/png": "[encoded data removed]",
      "text/plain": [
       "<Figure size 640x480 with 1 Axes>"
      ]
     },
     "metadata": {},
     "output_type": "display_data"
    }
   ],
   "source": [
    "plt.scatter(x = \"TV\" , y=\"Sales\", data=df)\n",
    "plt.scatter(x = \"Radio\" , y=\"Sales\", data=df)\n",
    "plt.scatter(x = \"Newspaper\" , y=\"Sales\", data=df)"
   ]
  },
  {
   "cell_type": "code",
   "execution_count": 32,
   "id": "a1fd9669",
   "metadata": {},
   "outputs": [],
   "source": [
    "X = df.drop(\"Sales\", axis=1)"
   ]
  },
  {
   "cell_type": "code",
   "execution_count": 34,
   "id": "95af7811",
   "metadata": {},
   "outputs": [],
   "source": [
    "y = df[\"Sales\"]"
   ]
  },
  {
   "cell_type": "code",
   "execution_count": 49,
   "id": "b081ca4d",
   "metadata": {},
   "outputs": [
    {
     "data": {
      "text/plain": [
       "0      22100\n",
       "1      10400\n",
       "2      12000\n",
       "3      16500\n",
       "4      17900\n",
       "       ...  \n",
       "195     7600\n",
       "196    14000\n",
       "197    14800\n",
       "198    25500\n",
       "199    18400\n",
       "Name: Sales, Length: 200, dtype: int64"
      ]
     },
     "execution_count": 49,
     "metadata": {},
     "output_type": "execute_result"
    }
   ],
   "source": [
    "y"
   ]
  },
  {
   "cell_type": "markdown",
   "id": "8e054e4d",
   "metadata": {},
   "source": [
    "### Splitting Data and making KFOLD"
   ]
  },
  {
   "cell_type": "code",
   "execution_count": 67,
   "id": "9748e717",
   "metadata": {},
   "outputs": [],
   "source": [
    "X_train, X_val, y_train, y_val = train_test_split(X, y,test_size=0.2 , random_state=SEED ,shuffle= True)"
   ]
  },
  {
   "cell_type": "code",
   "execution_count": 134,
   "id": "87fd2777",
   "metadata": {},
   "outputs": [
    {
     "data": {
      "text/plain": [
       "((160,), (40,))"
      ]
     },
     "execution_count": 134,
     "metadata": {},
     "output_type": "execute_result"
    }
   ],
   "source": [
    "# The shape of train and validation data\n",
    "y_train.shape , y_val.shape"
   ]
  },
  {
   "cell_type": "code",
   "execution_count": 125,
   "id": "48576ad6",
   "metadata": {},
   "outputs": [],
   "source": [
    "kf = KFold( n_splits=5 , shuffle=True, random_state=SEED)"
   ]
  },
  {
   "cell_type": "markdown",
   "id": "9a30ceb5",
   "metadata": {},
   "source": [
    "### Linear Regression"
   ]
  },
  {
   "cell_type": "code",
   "execution_count": 126,
   "id": "527c48a8",
   "metadata": {},
   "outputs": [],
   "source": [
    "lin_reg = LinearRegression()\n",
    "cv = cross_validate(lin_reg, X_train, y_train, cv = kf, scoring=(\"r2\", \"neg_mean_squared_error\") ,return_estimator=True)\n",
    "# detect more metrics https://scikit-learn.org/stable/modules/model_evaluation.html#scoring-parameter\n",
    "model_lin = cv[\"estimator\"]"
   ]
  },
  {
   "cell_type": "code",
   "execution_count": 138,
   "id": "82b6811c",
   "metadata": {},
   "outputs": [
    {
     "name": "stdout",
     "output_type": "stream",
     "text": [
      "R2 of linearregression: 91.71%\n"
     ]
    }
   ],
   "source": [
    "y_hats = [model.predict(X_val) for model in model_lin]\n",
    "r2_lin  = np.mean([r2_score(y_val, y_hat) for y_hat in y_hats])\n",
    "print(\"R2 of linearregression: \" f'{r2_lin:0.2%}')"
   ]
  },
  {
   "cell_type": "markdown",
   "id": "ce8a6747",
   "metadata": {},
   "source": [
    "### DecisionTree"
   ]
  },
  {
   "cell_type": "code",
   "execution_count": 143,
   "id": "895214af",
   "metadata": {
    "scrolled": true
   },
   "outputs": [],
   "source": [
    "dec = DecisionTreeRegressor()\n",
    "cv = cross_validate(dec, X_train, y_train, cv = kf, scoring=(\"r2\", \"neg_mean_squared_error\") ,return_estimator=True)\n",
    "model_dec = cv[\"estimator\"]"
   ]
  },
  {
   "cell_type": "code",
   "execution_count": 144,
   "id": "e1693b16",
   "metadata": {},
   "outputs": [
    {
     "name": "stdout",
     "output_type": "stream",
     "text": [
      "R2 of DecisionTree: 92.37%\n"
     ]
    }
   ],
   "source": [
    "y_hats = [model.predict(X_val) for model in model_dec]\n",
    "r2_dec = np.mean([r2_score(y_val, y_hat) for y_hat in y_hats])\n",
    "print(\"R2 of DecisionTree: \"f\"{r2_dec:0.2%}\")"
   ]
  },
  {
   "cell_type": "markdown",
   "id": "844cc116",
   "metadata": {},
   "source": [
    "## RandomForest"
   ]
  },
  {
   "cell_type": "code",
   "execution_count": 140,
   "id": "c9911744",
   "metadata": {},
   "outputs": [],
   "source": [
    "rf = RandomForestRegressor()\n",
    "cv = cross_validate(rf, X_train, y_train, cv = kf, scoring=(\"r2\", \"neg_mean_squared_error\") ,return_estimator=True)\n",
    "model_rf = cv[\"estimator\"]"
   ]
  },
  {
   "cell_type": "code",
   "execution_count": 142,
   "id": "4a7dd386",
   "metadata": {},
   "outputs": [
    {
     "name": "stdout",
     "output_type": "stream",
     "text": [
      "R2 of Randomforest: 97.15%\n"
     ]
    }
   ],
   "source": [
    "y_hats = [model.predict(X_val) for model in model_rf]\n",
    "r2_rf = np.mean([r2_score(y_val, y_hat) for y_hat in y_hats])\n",
    "print(\"R2 of Randomforest: \"f\"{r2_rf:0.2%}\")"
   ]
  },
  {
   "cell_type": "markdown",
   "id": "4699089c",
   "metadata": {},
   "source": [
    "### Light Gradiant Boosting Model"
   ]
  },
  {
   "cell_type": "code",
   "execution_count": 145,
   "id": "945dcdb7",
   "metadata": {},
   "outputs": [],
   "source": [
    "lgb = LGBMRegressor()\n",
    "cv = cross_validate(lgb, X_train, y_train, cv = kf, scoring=(\"r2\", \"neg_mean_squared_error\") ,return_estimator=True)\n",
    "model_lgb= cv[\"estimator\"]"
   ]
  },
  {
   "cell_type": "code",
   "execution_count": 147,
   "id": "fd8321e4",
   "metadata": {},
   "outputs": [
    {
     "name": "stdout",
     "output_type": "stream",
     "text": [
      "R2 of LightGBM: 94.42%\n"
     ]
    }
   ],
   "source": [
    "y_hats = [model.predict(X_val) for model in model_lgb]\n",
    "r2_lgb = np.mean([r2_score(y_val, y_hat) for y_hat in y_hats])\n",
    "print(\"R2 of LightGBM: \"f\"{r2_lgb:0.2%}\")"
   ]
  },
  {
   "cell_type": "markdown",
   "id": "052741ff",
   "metadata": {},
   "source": [
    "### Extra Gradiant Boosting"
   ]
  },
  {
   "cell_type": "code",
   "execution_count": 148,
   "id": "3a9f7475",
   "metadata": {},
   "outputs": [],
   "source": [
    "xgb = XGBRegressor()\n",
    "cv = cross_validate(xgb, X_train, y_train, cv = kf, scoring=(\"r2\", \"neg_mean_squared_error\") ,return_estimator=True)\n",
    "model_xgb= cv[\"estimator\"]"
   ]
  },
  {
   "cell_type": "code",
   "execution_count": 149,
   "id": "b9f8354c",
   "metadata": {},
   "outputs": [
    {
     "name": "stdout",
     "output_type": "stream",
     "text": [
      "R2 of XGB: 95.82%\n"
     ]
    }
   ],
   "source": [
    "y_hats = [model.predict(X_val) for model in model_xgb]\n",
    "r2_xgb = np.mean([r2_score(y_val, y_hat) for y_hat in y_hats])\n",
    "print(\"R2 of XGB: \"f\"{r2_xgb:0.2%}\")"
   ]
  },
  {
   "cell_type": "code",
   "execution_count": null,
   "id": "92351254",
   "metadata": {},
   "outputs": [],
   "source": []
  }
 ],
 "metadata": {
  "kernelspec": {
   "display_name": "Python 3 (ipykernel)",
   "language": "python",
   "name": "python3"
  },
  "language_info": {
   "codemirror_mode": {
    "name": "ipython",
    "version": 3
   },
   "file_extension": ".py",
   "mimetype": "text/x-python",
   "name": "python",
   "nbconvert_exporter": "python",
   "pygments_lexer": "ipython3",
   "version": "3.9.13"
  }
 },
 "nbformat": 4,
 "nbformat_minor": 5
}
